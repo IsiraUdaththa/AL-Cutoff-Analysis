{
 "cells": [
  {
   "cell_type": "code",
   "execution_count": 90,
   "id": "dc7e76fd-6630-42cc-936c-017d5c11fdf1",
   "metadata": {},
   "outputs": [],
   "source": [
    "import pandas as pd\n",
    "import re"
   ]
  },
  {
   "cell_type": "code",
   "execution_count": 97,
   "id": "c74cc7c1-f593-493d-9240-dce45955abd4",
   "metadata": {
    "scrolled": true
   },
   "outputs": [
    {
     "data": {
      "text/plain": [
       "True"
      ]
     },
     "execution_count": 97,
     "metadata": {},
     "output_type": "execute_result"
    }
   ],
   "source": [
    "# Read the text file\n",
    "with open('test.txt', 'r') as file:\n",
    "    lines = file.readlines()\n",
    "    \n",
    "# Check if every even-numbered line starts and ends with brackets\n",
    "for line in lines[1::2]:\n",
    "    if not line.strip().startswith('(') or not line.strip().endswith(')'):\n",
    "        print(line)\n",
    "\n",
    "# Check if every even-numbered line starts and ends with brackets\n",
    "valid_format = all(line.strip().startswith('(') and line.strip().endswith(')') for line in lines[1::2])\n",
    "valid_format"
   ]
  },
  {
   "cell_type": "code",
   "execution_count": 98,
   "id": "c424d784-bc6e-453b-8458-0011a6eddfb4",
   "metadata": {},
   "outputs": [
    {
     "data": {
      "text/html": [
       "<div>\n",
       "<style scoped>\n",
       "    .dataframe tbody tr th:only-of-type {\n",
       "        vertical-align: middle;\n",
       "    }\n",
       "\n",
       "    .dataframe tbody tr th {\n",
       "        vertical-align: top;\n",
       "    }\n",
       "\n",
       "    .dataframe thead th {\n",
       "        text-align: right;\n",
       "    }\n",
       "</style>\n",
       "<table border=\"1\" class=\"dataframe\">\n",
       "  <thead>\n",
       "    <tr style=\"text-align: right;\">\n",
       "      <th></th>\n",
       "      <th>Course of Study</th>\n",
       "      <th>University</th>\n",
       "    </tr>\n",
       "  </thead>\n",
       "  <tbody>\n",
       "    <tr>\n",
       "      <th>0</th>\n",
       "      <td>MEDICINE</td>\n",
       "      <td>University of Colombo</td>\n",
       "    </tr>\n",
       "    <tr>\n",
       "      <th>1</th>\n",
       "      <td>MEDICINE</td>\n",
       "      <td>University of Peradeniya</td>\n",
       "    </tr>\n",
       "    <tr>\n",
       "      <th>2</th>\n",
       "      <td>MEDICINE</td>\n",
       "      <td>University of Sri Jayewardenepura</td>\n",
       "    </tr>\n",
       "    <tr>\n",
       "      <th>3</th>\n",
       "      <td>MEDICINE</td>\n",
       "      <td>University of Kelaniya</td>\n",
       "    </tr>\n",
       "    <tr>\n",
       "      <th>4</th>\n",
       "      <td>MEDICINE</td>\n",
       "      <td>University of Jaffna</td>\n",
       "    </tr>\n",
       "    <tr>\n",
       "      <th>...</th>\n",
       "      <td>...</td>\n",
       "      <td>...</td>\n",
       "    </tr>\n",
       "    <tr>\n",
       "      <th>242</th>\n",
       "      <td>DANCE #</td>\n",
       "      <td>Ramanathan Academy of Fine Arts</td>\n",
       "    </tr>\n",
       "    <tr>\n",
       "      <th>243</th>\n",
       "      <td>VISUAL &amp; TECHNOLOGICAL ARTS #</td>\n",
       "      <td>Swami Vipulananda Institute of Aesthetic Studies</td>\n",
       "    </tr>\n",
       "    <tr>\n",
       "      <th>244</th>\n",
       "      <td>MUSIC #</td>\n",
       "      <td>Swami Vipulananda Institute of Aesthetic Studies</td>\n",
       "    </tr>\n",
       "    <tr>\n",
       "      <th>245</th>\n",
       "      <td>DANCE #</td>\n",
       "      <td>Swami Vipulananda Institute of Aesthetic Studies</td>\n",
       "    </tr>\n",
       "    <tr>\n",
       "      <th>246</th>\n",
       "      <td>DRAMA &amp; THEATRE #</td>\n",
       "      <td>Swami Vipulananda Institute of Aesthetic Studies</td>\n",
       "    </tr>\n",
       "  </tbody>\n",
       "</table>\n",
       "<p>247 rows × 2 columns</p>\n",
       "</div>"
      ],
      "text/plain": [
       "                   Course of Study  \\\n",
       "0                         MEDICINE   \n",
       "1                         MEDICINE   \n",
       "2                         MEDICINE   \n",
       "3                         MEDICINE   \n",
       "4                         MEDICINE   \n",
       "..                             ...   \n",
       "242                        DANCE #   \n",
       "243  VISUAL & TECHNOLOGICAL ARTS #   \n",
       "244                        MUSIC #   \n",
       "245                        DANCE #   \n",
       "246              DRAMA & THEATRE #   \n",
       "\n",
       "                                           University  \n",
       "0                               University of Colombo  \n",
       "1                            University of Peradeniya  \n",
       "2                   University of Sri Jayewardenepura  \n",
       "3                              University of Kelaniya  \n",
       "4                                University of Jaffna  \n",
       "..                                                ...  \n",
       "242                   Ramanathan Academy of Fine Arts  \n",
       "243  Swami Vipulananda Institute of Aesthetic Studies  \n",
       "244  Swami Vipulananda Institute of Aesthetic Studies  \n",
       "245  Swami Vipulananda Institute of Aesthetic Studies  \n",
       "246  Swami Vipulananda Institute of Aesthetic Studies  \n",
       "\n",
       "[247 rows x 2 columns]"
      ]
     },
     "execution_count": 98,
     "metadata": {},
     "output_type": "execute_result"
    }
   ],
   "source": [
    "if not valid_format:\n",
    "    print(\"Error: The format of the file is incorrect. Every even-numbered line should start and end with brackets.\")\n",
    "else:\n",
    "    # Initialize lists to store data\n",
    "    courses = []\n",
    "    universities = []\n",
    "\n",
    "    # Iterate through the lines and extract data\n",
    "    for i in range(0, len(lines), 2):\n",
    "        course = lines[i].strip()\n",
    "        university = lines[i + 1].strip()[1:-1]  # Remove brackets\n",
    "        courses.append(course)\n",
    "        universities.append(university)\n",
    "\n",
    "    # Create a DataFrame\n",
    "    df = pd.DataFrame({'Course of Study': courses, 'University': universities})\n",
    "\n",
    "    # Display the DataFrame\n",
    "df"
   ]
  },
  {
   "cell_type": "code",
   "execution_count": 99,
   "id": "13977c27-a277-48e9-a5a1-45a672da005c",
   "metadata": {},
   "outputs": [
    {
     "name": "stdout",
     "output_type": "stream",
     "text": [
      "DataFrame saved as CSV successfully.\n"
     ]
    }
   ],
   "source": [
    "df.to_csv('programs_universities.csv', index=False)\n",
    "\n",
    "print(\"DataFrame saved as CSV successfully.\")"
   ]
  },
  {
   "cell_type": "code",
   "execution_count": null,
   "id": "efb51a23-7ed6-49a6-9b4c-ebb2f9635fdc",
   "metadata": {},
   "outputs": [],
   "source": []
  }
 ],
 "metadata": {
  "kernelspec": {
   "display_name": "Python 3 (ipykernel)",
   "language": "python",
   "name": "python3"
  },
  "language_info": {
   "codemirror_mode": {
    "name": "ipython",
    "version": 3
   },
   "file_extension": ".py",
   "mimetype": "text/x-python",
   "name": "python",
   "nbconvert_exporter": "python",
   "pygments_lexer": "ipython3",
   "version": "3.8.3"
  }
 },
 "nbformat": 4,
 "nbformat_minor": 5
}
